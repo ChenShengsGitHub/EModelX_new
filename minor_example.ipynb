{
 "cells": [
  {
   "cell_type": "code",
   "execution_count": null,
   "metadata": {},
   "outputs": [],
   "source": [
    "# environment\n",
    "!wget -c https://repo.anaconda.com/miniconda/Miniconda3-py37_4.10.3-Linux-x86_64.sh\n",
    "!chmod +x Miniconda3-py37_4.10.3-Linux-x86_64.sh\n",
    "%env PYTHONPATH=\n",
    "!./Miniconda3-py37_4.10.3-Linux-x86_64.sh -b -f -p /usr/local\n",
    "!cp -r /content/drive/MyDrive/projects/EModelX/EModelX ./\n",
    "!chmod -R 777 /content/EModelX\n",
    "!conda env create -f /content/EModelX/EModelX.yml"
   ]
  },
  {
   "cell_type": "code",
   "execution_count": null,
   "metadata": {},
   "outputs": [],
   "source": [
    "%%bash\n",
    "source activate EModelX\n",
    "cd /content/EModelX\n",
    "python run.py --protocol=temp_free --EM_map=data/inputs/maps/emd_32336.map.gz --fasta=data/inputs/fastas/7w72 --output_dir=data/outputs --run_pulchra --pulchra_path=modules/pulchra304/src/pulchra\n",
    "# replace --EM_map and --fasta with your inputs\n",
    "# check and download your outputs from --output_dir"
   ]
  }
 ],
 "metadata": {
  "language_info": {
   "name": "python"
  }
 },
 "nbformat": 4,
 "nbformat_minor": 2
}
