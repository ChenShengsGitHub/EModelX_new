{
 "cells": [
  {
   "cell_type": "code",
   "execution_count": null,
   "metadata": {},
   "outputs": [],
   "source": [
    "# conda environment\n",
    "!wget -c https://repo.anaconda.com/miniconda/Miniconda3-py37_4.10.3-Linux-x86_64.sh\n",
    "!chmod +x Miniconda3-py37_4.10.3-Linux-x86_64.sh\n",
    "%env PYTHONPATH=\n",
    "!./Miniconda3-py37_4.10.3-Linux-x86_64.sh -b -f -p /usr/local"
   ]
  },
  {
   "cell_type": "code",
   "execution_count": null,
   "metadata": {},
   "outputs": [],
   "source": [
    "# code clone\n",
    "!git clone https://github.com/ChenShengsGitHub/EModelX_new.git\n",
    "!mv EModelX_new EModelX\n",
    "# model clone\n",
    "!pip install gdown\n",
    "!cd /content/EModelX/models/\\\n",
    "&& gdown https://drive.google.com/uc?id=1evghUiUcb3mFiCQ2-Gjez9AtA2w6Pyir \\\n",
    "&& gdown https://drive.google.com/uc?id=1GbmezR4tVCYaALZ330TL4vk84kGDQD3V \\\n",
    "&& gdown https://drive.google.com/uc?id=1n8yiVr4oRxsY4ii2a05hcx5gI3eIybA1\n",
    "# permission\n",
    "!chmod -R 777 /content/EModelX\n",
    "# conda create environment\n",
    "!conda env create -f /content/EModelX/EModelX.yml"
   ]
  },
  {
   "cell_type": "code",
   "execution_count": null,
   "metadata": {},
   "outputs": [],
   "source": [
    "!source activate EModelX \\\n",
    "&& cd /content/EModelX \\\n",
    "&& python run.py \\\n",
    "--protocol=temp_free \\\n",
    "--EM_map=data/inputs/maps/emd_32336.map.gz \\\n",
    "--fasta=data/inputs/fastas/7w72 \\\n",
    "--output_dir=data/outputs \\\n",
    "--run_pulchra --pulchra_path=modules/pulchra304/src/pulchra\n",
    "# replace --EM_map and --fasta with your inputs\n",
    "# check and download your outputs from --output_dir"
   ]
  }
 ],
 "metadata": {
  "language_info": {
   "name": "python"
  }
 },
 "nbformat": 4,
 "nbformat_minor": 2
}
